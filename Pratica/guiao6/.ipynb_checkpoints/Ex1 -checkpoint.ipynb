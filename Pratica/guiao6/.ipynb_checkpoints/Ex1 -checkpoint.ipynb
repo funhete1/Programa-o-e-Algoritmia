{
 "cells": [
  {
   "cell_type": "code",
   "execution_count": 7,
   "id": "342a0e83",
   "metadata": {
    "collapsed": true
   },
   "outputs": [
    {
     "name": "stdout",
     "output_type": "stream",
     "text": [
      "number of columns: 16\n",
      "first: Rank \n",
      "0     55\n",
      "1     95\n",
      "2     60\n",
      "3     48\n",
      "4     93\n",
      "      ..\n",
      "95    43\n",
      "96    25\n",
      "97    84\n",
      "98    12\n",
      "99     2\n",
      "Name: Rank, Length: 100, dtype: int64\n",
      "last: Description\n"
     ]
    }
   ],
   "source": [
    "#1\n",
    "import pandas as pd \n",
    "\n",
    "file = pd.read_csv(\"Athletes.csv\")\n",
    "\n",
    "print(\"number of columns: {}\".format(len(file.columns)))\n",
    "\n",
    "print(\"first: {} \".format(file.columns[0]))\n",
    "\n",
    "print(file.iloc[:,0])\n",
    "\n",
    "print(\"last: {}\".format(file.columns[-1]))"
   ]
  },
  {
   "cell_type": "code",
   "execution_count": 2,
   "id": "dcf4a9f0",
   "metadata": {
    "collapsed": true
   },
   "outputs": [
    {
     "name": "stdout",
     "output_type": "stream",
     "text": [
      "Number of rows: 100\n"
     ]
    }
   ],
   "source": [
    "#2\n",
    "print(\"Number of rows: {}\".format(len(file)))"
   ]
  },
  {
   "cell_type": "code",
   "execution_count": 3,
   "id": "390df162",
   "metadata": {
    "scrolled": true
   },
   "outputs": [
    {
     "name": "stdout",
     "output_type": "stream",
     "text": [
      "    Rank                Name       Sport    Total Pay Salary/Winnings  \\\n",
      "0     55       Aaron Rodgers    Football  $22,000,000     $14,500,000   \n",
      "1     95          Adam Scott        Golf  $17,700,000      $8,700,000   \n",
      "2     60     Adrian Gonzalez    Baseball  $21,500,000     $21,100,000   \n",
      "3     48      Alex Rodriguez    Baseball  $22,900,000     $22,600,000   \n",
      "4     93     Alfonso Soriano    Baseball  $18,050,000     $18,000,000   \n",
      "..   ...                 ...         ...          ...             ...   \n",
      "95    43        Wayne Rooney      Soccer  $23,400,000     $18,400,000   \n",
      "96    25  Wladimir Klitschko      Boxing  $28,000,000     $24,000,000   \n",
      "97    84       Zach Randolph  Basketball  $18,800,000     $18,300,000   \n",
      "98    12  Zlatan Ibrahimović      Soccer  $40,400,000     $36,400,000   \n",
      "99     2   Cristiano Ronaldo      Soccer  $80,000,000     $52,000,000   \n",
      "\n",
      "   Endorsements              Nation Gender  Year of birth  Birth Date  \n",
      "0    $7,500,000       United States   Male           1983   2/12/1983  \n",
      "1    $9,000,000           Australia   Male           1980  16/07/1980  \n",
      "2      $400,000       United States   Male           1982   8/05/1982  \n",
      "3      $300,000       United States   Male           1975  27/07/1975  \n",
      "4       $50,000  Dominican Republic   Male           1976   7/01/1976  \n",
      "..          ...                 ...    ...            ...         ...  \n",
      "95   $5,000,000             England   Male           1985  24/10/1985  \n",
      "96   $4,000,000             Ukraine   Male           1976  25/03/1976  \n",
      "97     $500,000       United States   Male           1981  16/07/1981  \n",
      "98   $4,000,000              Sweden   Male           1981   3/10/1981  \n",
      "99  $28,000,000            Portugal   Male           1985   5/02/1985  \n",
      "\n",
      "[100 rows x 10 columns]\n"
     ]
    }
   ],
   "source": [
    "#3\n",
    "file_10 = file.iloc[:,0:10]\n",
    "print(file_10)\n",
    "\n",
    "file_10.to_excel(\"output.xlsx\")"
   ]
  },
  {
   "cell_type": "code",
   "execution_count": 6,
   "id": "10340d46",
   "metadata": {
    "scrolled": true
   },
   "outputs": [
    {
     "name": "stdout",
     "output_type": "stream",
     "text": [
      "object\n",
      "object\n"
     ]
    }
   ],
   "source": [
    "#5\n",
    "print(file_10.dtypes[\"Sport\"])\n",
    "\n",
    "file_10 = file_10.astype({\"Sport\": str})\n",
    "\n",
    "print(file_10.dtypes[\"Sport\"])\n",
    "\n",
    "#the data type of column Sport is str but displayed as object, \n",
    "#and I can't think in a better type for a this column\n"
   ]
  },
  {
   "cell_type": "code",
   "execution_count": 22,
   "id": "32d7c9e5",
   "metadata": {},
   "outputs": [
    {
     "name": "stdout",
     "output_type": "stream",
     "text": [
      "               Rank     Sport    Total Pay Salary/Winnings Endorsements  \\\n",
      "Name                                                                      \n",
      "Aaron Rodgers    55  Football  $22,000,000                   $7,500,000   \n",
      "Adam Scott       95      Golf  $17,700,000                   $9,000,000   \n",
      "\n",
      "                      Nation Gender  Year of birth  Birth Date  \n",
      "Name                                                            \n",
      "Aaron Rodgers  United States   Male           1983   2/12/1983  \n",
      "Adam Scott         Australia   Male           1980  16/07/1980  \n"
     ]
    }
   ],
   "source": [
    "#4\n",
    "print(file_10.set_index(\"Name\").head(2))"
   ]
  },
  {
   "cell_type": "code",
   "execution_count": 23,
   "id": "c1971163",
   "metadata": {},
   "outputs": [
    {
     "name": "stdout",
     "output_type": "stream",
     "text": [
      "    Rank                Name       Sport    Total Pay Salary/Winnings  \\\n",
      "0     55       Aaron Rodgers    Football  $22,000,000                   \n",
      "1     95          Adam Scott        Golf  $17,700,000                   \n",
      "2     60     Adrian Gonzalez    Baseball  $21,500,000                   \n",
      "3     48      Alex Rodriguez    Baseball  $22,900,000                   \n",
      "4     93     Alfonso Soriano    Baseball  $18,050,000                   \n",
      "..   ...                 ...         ...          ...             ...   \n",
      "95    43        Wayne Rooney      Soccer  $23,400,000                   \n",
      "96    25  Wladimir Klitschko      Boxing  $28,000,000                   \n",
      "97    84       Zach Randolph  Basketball  $18,800,000                   \n",
      "98    12  Zlatan Ibrahimović      Soccer  $40,400,000                   \n",
      "99     2   Cristiano Ronaldo      Soccer  $80,000,000                   \n",
      "\n",
      "   Endorsements              Nation Gender  Year of birth  Birth Date  \n",
      "0    $7,500,000       United States   Male           1983   2/12/1983  \n",
      "1    $9,000,000           Australia   Male           1980  16/07/1980  \n",
      "2      $400,000       United States   Male           1982   8/05/1982  \n",
      "3      $300,000       United States   Male           1975  27/07/1975  \n",
      "4       $50,000  Dominican Republic   Male           1976   7/01/1976  \n",
      "..          ...                 ...    ...            ...         ...  \n",
      "95   $5,000,000             England   Male           1985  24/10/1985  \n",
      "96   $4,000,000             Ukraine   Male           1976  25/03/1976  \n",
      "97     $500,000       United States   Male           1981  16/07/1981  \n",
      "98   $4,000,000              Sweden   Male           1981   3/10/1981  \n",
      "99  $28,000,000            Portugal   Male           1985   5/02/1985  \n",
      "\n",
      "[100 rows x 10 columns]\n",
      "Number of non repeated Sports: 10\n",
      "\n",
      "Non repeated elements on the Sorts columns: \n",
      "Football\n",
      "Golf\n",
      "Baseball\n",
      "Basketball\n",
      "Boxing\n",
      "Racing\n",
      "Soccer\n",
      "Tennis\n",
      "Cricket\n",
      "Track\n",
      "\n",
      "Most frequent Sport: Baseball\n"
     ]
    }
   ],
   "source": [
    "#6\n",
    "print(\"Number of non repeated Sports: {}\\n\".format(file_10[\"Sport\"].\n",
    "                                                    nunique()))#number of non duplicated elements\n",
    "print(\"Non repeated elements on the Sorts columns: \")\n",
    "for i in file_10[\"Sport\"].unique():print(\"{}\".format(i),sep='')\n",
    "\n",
    "print(\"\\nMost frequent Sport: {}\".format(file_10[\"Sport\"].\n",
    "                                              value_counts().\n",
    "                                                idxmax()))"
   ]
  },
  {
   "cell_type": "code",
   "execution_count": 6,
   "id": "4c916b93",
   "metadata": {
    "collapsed": true
   },
   "outputs": [
    {
     "name": "stdout",
     "output_type": "stream",
     "text": [
      "                                 Name       Sport\n",
      "Nation                                           \n",
      "Australia                  Adam Scott        Golf\n",
      "Dominican Republic    Alfonso Soriano    Baseball\n",
      "United States           Aaron Rodgers    Football\n",
      "United States         Adrian Gonzalez    Baseball\n",
      "United States          Alex Rodriguez    Baseball\n",
      "United States       Amar'e Stoudemire  Basketball\n",
      "United States              Barry Zito    Baseball\n",
      "\n",
      "Sports that the frist 7 pratice: \n",
      "Football\n",
      "Golf\n",
      "Baseball\n",
      "Basketball\n"
     ]
    }
   ],
   "source": [
    "#7\n",
    "file_7 = file_10.filter([\"Name\",\"Nation\",\"Sport\"], axis=1).set_index(\"Nation\").head(7)\n",
    "\n",
    "#file_7 = file_7.set_index(\"Nation\").head(7)\n",
    "\n",
    "print(file_7.sort_index(axis=0))\n",
    "\n",
    "print(\"\\nSports that the frist 7 pratice: \")\n",
    "for i in file_7[\"Sport\"].unique():print(\"{}\".format(i),sep='')"
   ]
  },
  {
   "cell_type": "markdown",
   "id": "aa7d45f2",
   "metadata": {},
   "source": [
    "## "
   ]
  },
  {
   "cell_type": "code",
   "execution_count": 39,
   "id": "015bd16f",
   "metadata": {},
   "outputs": [
    {
     "name": "stdout",
     "output_type": "stream",
     "text": [
      "0      \n",
      "1      \n",
      "2      \n",
      "3      \n",
      "4      \n",
      "     ..\n",
      "95     \n",
      "96     \n",
      "97     \n",
      "98     \n",
      "99     \n",
      "Name: Salary/Winnings, Length: 100, dtype: object\n",
      "Type of data on salary columns: object\n",
      "\n",
      "   Rank           Name     Sport    Total Pay Salary/Winnings Endorsements  \\\n",
      "0    55  Aaron Rodgers  Football  $22,000,000                   $7,500,000   \n",
      "\n",
      "          Nation Gender  Year of birth Birth Date  \n",
      "0  United States   Male           1983  2/12/1983  \n"
     ]
    },
    {
     "ename": "ValueError",
     "evalue": "could not convert string to float: ''",
     "output_type": "error",
     "traceback": [
      "\u001b[1;31m---------------------------------------------------------------------------\u001b[0m",
      "\u001b[1;31mValueError\u001b[0m                                Traceback (most recent call last)",
      "\u001b[1;32m~\\AppData\\Local\\Temp/ipykernel_8440/207880951.py\u001b[0m in \u001b[0;36m<module>\u001b[1;34m\u001b[0m\n\u001b[0;32m      4\u001b[0m \u001b[1;31m#file_10[\"Salary/Winnings\"] = file_10[\"Salary/Winnings\"].str.replace('$','',regex=False)\u001b[0m\u001b[1;33m\u001b[0m\u001b[1;33m\u001b[0m\u001b[0m\n\u001b[0;32m      5\u001b[0m \u001b[0mprint\u001b[0m\u001b[1;33m(\u001b[0m\u001b[0mfile_10\u001b[0m\u001b[1;33m.\u001b[0m\u001b[0mhead\u001b[0m\u001b[1;33m(\u001b[0m\u001b[1;36m1\u001b[0m\u001b[1;33m)\u001b[0m\u001b[1;33m)\u001b[0m\u001b[1;33m\u001b[0m\u001b[1;33m\u001b[0m\u001b[0m\n\u001b[1;32m----> 6\u001b[1;33m \u001b[0mfile_10\u001b[0m\u001b[1;33m[\u001b[0m\u001b[1;34m\"Salary/Winnings\"\u001b[0m\u001b[1;33m]\u001b[0m \u001b[1;33m=\u001b[0m \u001b[0mfile_10\u001b[0m\u001b[1;33m[\u001b[0m\u001b[1;34m\"Salary/Winnings\"\u001b[0m\u001b[1;33m]\u001b[0m\u001b[1;33m.\u001b[0m\u001b[0mastype\u001b[0m\u001b[1;33m(\u001b[0m\u001b[0mfloat\u001b[0m\u001b[1;33m)\u001b[0m\u001b[1;33m\u001b[0m\u001b[1;33m\u001b[0m\u001b[0m\n\u001b[0m\u001b[0;32m      7\u001b[0m \u001b[0mprint\u001b[0m\u001b[1;33m(\u001b[0m\u001b[1;34m\"Type of data on salary columns: {}\\n\"\u001b[0m\u001b[1;33m.\u001b[0m\u001b[0mformat\u001b[0m\u001b[1;33m(\u001b[0m\u001b[0mfile_10\u001b[0m\u001b[1;33m.\u001b[0m\u001b[0mdtypes\u001b[0m\u001b[1;33m[\u001b[0m\u001b[1;34m\"Salary/Winnings\"\u001b[0m\u001b[1;33m]\u001b[0m\u001b[1;33m)\u001b[0m\u001b[1;33m)\u001b[0m\u001b[1;33m\u001b[0m\u001b[1;33m\u001b[0m\u001b[0m\n\u001b[0;32m      8\u001b[0m \u001b[1;33m\u001b[0m\u001b[0m\n",
      "\u001b[1;32m~\\anaconda3\\lib\\site-packages\\pandas\\core\\generic.py\u001b[0m in \u001b[0;36mastype\u001b[1;34m(self, dtype, copy, errors)\u001b[0m\n\u001b[0;32m   5813\u001b[0m         \u001b[1;32melse\u001b[0m\u001b[1;33m:\u001b[0m\u001b[1;33m\u001b[0m\u001b[1;33m\u001b[0m\u001b[0m\n\u001b[0;32m   5814\u001b[0m             \u001b[1;31m# else, only a single dtype is given\u001b[0m\u001b[1;33m\u001b[0m\u001b[1;33m\u001b[0m\u001b[0m\n\u001b[1;32m-> 5815\u001b[1;33m             \u001b[0mnew_data\u001b[0m \u001b[1;33m=\u001b[0m \u001b[0mself\u001b[0m\u001b[1;33m.\u001b[0m\u001b[0m_mgr\u001b[0m\u001b[1;33m.\u001b[0m\u001b[0mastype\u001b[0m\u001b[1;33m(\u001b[0m\u001b[0mdtype\u001b[0m\u001b[1;33m=\u001b[0m\u001b[0mdtype\u001b[0m\u001b[1;33m,\u001b[0m \u001b[0mcopy\u001b[0m\u001b[1;33m=\u001b[0m\u001b[0mcopy\u001b[0m\u001b[1;33m,\u001b[0m \u001b[0merrors\u001b[0m\u001b[1;33m=\u001b[0m\u001b[0merrors\u001b[0m\u001b[1;33m)\u001b[0m\u001b[1;33m\u001b[0m\u001b[1;33m\u001b[0m\u001b[0m\n\u001b[0m\u001b[0;32m   5816\u001b[0m             \u001b[1;32mreturn\u001b[0m \u001b[0mself\u001b[0m\u001b[1;33m.\u001b[0m\u001b[0m_constructor\u001b[0m\u001b[1;33m(\u001b[0m\u001b[0mnew_data\u001b[0m\u001b[1;33m)\u001b[0m\u001b[1;33m.\u001b[0m\u001b[0m__finalize__\u001b[0m\u001b[1;33m(\u001b[0m\u001b[0mself\u001b[0m\u001b[1;33m,\u001b[0m \u001b[0mmethod\u001b[0m\u001b[1;33m=\u001b[0m\u001b[1;34m\"astype\"\u001b[0m\u001b[1;33m)\u001b[0m\u001b[1;33m\u001b[0m\u001b[1;33m\u001b[0m\u001b[0m\n\u001b[0;32m   5817\u001b[0m \u001b[1;33m\u001b[0m\u001b[0m\n",
      "\u001b[1;32m~\\anaconda3\\lib\\site-packages\\pandas\\core\\internals\\managers.py\u001b[0m in \u001b[0;36mastype\u001b[1;34m(self, dtype, copy, errors)\u001b[0m\n\u001b[0;32m    416\u001b[0m \u001b[1;33m\u001b[0m\u001b[0m\n\u001b[0;32m    417\u001b[0m     \u001b[1;32mdef\u001b[0m \u001b[0mastype\u001b[0m\u001b[1;33m(\u001b[0m\u001b[0mself\u001b[0m\u001b[1;33m:\u001b[0m \u001b[0mT\u001b[0m\u001b[1;33m,\u001b[0m \u001b[0mdtype\u001b[0m\u001b[1;33m,\u001b[0m \u001b[0mcopy\u001b[0m\u001b[1;33m:\u001b[0m \u001b[0mbool\u001b[0m \u001b[1;33m=\u001b[0m \u001b[1;32mFalse\u001b[0m\u001b[1;33m,\u001b[0m \u001b[0merrors\u001b[0m\u001b[1;33m:\u001b[0m \u001b[0mstr\u001b[0m \u001b[1;33m=\u001b[0m \u001b[1;34m\"raise\"\u001b[0m\u001b[1;33m)\u001b[0m \u001b[1;33m->\u001b[0m \u001b[0mT\u001b[0m\u001b[1;33m:\u001b[0m\u001b[1;33m\u001b[0m\u001b[1;33m\u001b[0m\u001b[0m\n\u001b[1;32m--> 418\u001b[1;33m         \u001b[1;32mreturn\u001b[0m \u001b[0mself\u001b[0m\u001b[1;33m.\u001b[0m\u001b[0mapply\u001b[0m\u001b[1;33m(\u001b[0m\u001b[1;34m\"astype\"\u001b[0m\u001b[1;33m,\u001b[0m \u001b[0mdtype\u001b[0m\u001b[1;33m=\u001b[0m\u001b[0mdtype\u001b[0m\u001b[1;33m,\u001b[0m \u001b[0mcopy\u001b[0m\u001b[1;33m=\u001b[0m\u001b[0mcopy\u001b[0m\u001b[1;33m,\u001b[0m \u001b[0merrors\u001b[0m\u001b[1;33m=\u001b[0m\u001b[0merrors\u001b[0m\u001b[1;33m)\u001b[0m\u001b[1;33m\u001b[0m\u001b[1;33m\u001b[0m\u001b[0m\n\u001b[0m\u001b[0;32m    419\u001b[0m \u001b[1;33m\u001b[0m\u001b[0m\n\u001b[0;32m    420\u001b[0m     def convert(\n",
      "\u001b[1;32m~\\anaconda3\\lib\\site-packages\\pandas\\core\\internals\\managers.py\u001b[0m in \u001b[0;36mapply\u001b[1;34m(self, f, align_keys, ignore_failures, **kwargs)\u001b[0m\n\u001b[0;32m    325\u001b[0m                     \u001b[0mapplied\u001b[0m \u001b[1;33m=\u001b[0m \u001b[0mb\u001b[0m\u001b[1;33m.\u001b[0m\u001b[0mapply\u001b[0m\u001b[1;33m(\u001b[0m\u001b[0mf\u001b[0m\u001b[1;33m,\u001b[0m \u001b[1;33m**\u001b[0m\u001b[0mkwargs\u001b[0m\u001b[1;33m)\u001b[0m\u001b[1;33m\u001b[0m\u001b[1;33m\u001b[0m\u001b[0m\n\u001b[0;32m    326\u001b[0m                 \u001b[1;32melse\u001b[0m\u001b[1;33m:\u001b[0m\u001b[1;33m\u001b[0m\u001b[1;33m\u001b[0m\u001b[0m\n\u001b[1;32m--> 327\u001b[1;33m                     \u001b[0mapplied\u001b[0m \u001b[1;33m=\u001b[0m \u001b[0mgetattr\u001b[0m\u001b[1;33m(\u001b[0m\u001b[0mb\u001b[0m\u001b[1;33m,\u001b[0m \u001b[0mf\u001b[0m\u001b[1;33m)\u001b[0m\u001b[1;33m(\u001b[0m\u001b[1;33m**\u001b[0m\u001b[0mkwargs\u001b[0m\u001b[1;33m)\u001b[0m\u001b[1;33m\u001b[0m\u001b[1;33m\u001b[0m\u001b[0m\n\u001b[0m\u001b[0;32m    328\u001b[0m             \u001b[1;32mexcept\u001b[0m \u001b[1;33m(\u001b[0m\u001b[0mTypeError\u001b[0m\u001b[1;33m,\u001b[0m \u001b[0mNotImplementedError\u001b[0m\u001b[1;33m)\u001b[0m\u001b[1;33m:\u001b[0m\u001b[1;33m\u001b[0m\u001b[1;33m\u001b[0m\u001b[0m\n\u001b[0;32m    329\u001b[0m                 \u001b[1;32mif\u001b[0m \u001b[1;32mnot\u001b[0m \u001b[0mignore_failures\u001b[0m\u001b[1;33m:\u001b[0m\u001b[1;33m\u001b[0m\u001b[1;33m\u001b[0m\u001b[0m\n",
      "\u001b[1;32m~\\anaconda3\\lib\\site-packages\\pandas\\core\\internals\\blocks.py\u001b[0m in \u001b[0;36mastype\u001b[1;34m(self, dtype, copy, errors)\u001b[0m\n\u001b[0;32m    589\u001b[0m         \u001b[0mvalues\u001b[0m \u001b[1;33m=\u001b[0m \u001b[0mself\u001b[0m\u001b[1;33m.\u001b[0m\u001b[0mvalues\u001b[0m\u001b[1;33m\u001b[0m\u001b[1;33m\u001b[0m\u001b[0m\n\u001b[0;32m    590\u001b[0m \u001b[1;33m\u001b[0m\u001b[0m\n\u001b[1;32m--> 591\u001b[1;33m         \u001b[0mnew_values\u001b[0m \u001b[1;33m=\u001b[0m \u001b[0mastype_array_safe\u001b[0m\u001b[1;33m(\u001b[0m\u001b[0mvalues\u001b[0m\u001b[1;33m,\u001b[0m \u001b[0mdtype\u001b[0m\u001b[1;33m,\u001b[0m \u001b[0mcopy\u001b[0m\u001b[1;33m=\u001b[0m\u001b[0mcopy\u001b[0m\u001b[1;33m,\u001b[0m \u001b[0merrors\u001b[0m\u001b[1;33m=\u001b[0m\u001b[0merrors\u001b[0m\u001b[1;33m)\u001b[0m\u001b[1;33m\u001b[0m\u001b[1;33m\u001b[0m\u001b[0m\n\u001b[0m\u001b[0;32m    592\u001b[0m \u001b[1;33m\u001b[0m\u001b[0m\n\u001b[0;32m    593\u001b[0m         \u001b[0mnew_values\u001b[0m \u001b[1;33m=\u001b[0m \u001b[0mmaybe_coerce_values\u001b[0m\u001b[1;33m(\u001b[0m\u001b[0mnew_values\u001b[0m\u001b[1;33m)\u001b[0m\u001b[1;33m\u001b[0m\u001b[1;33m\u001b[0m\u001b[0m\n",
      "\u001b[1;32m~\\anaconda3\\lib\\site-packages\\pandas\\core\\dtypes\\cast.py\u001b[0m in \u001b[0;36mastype_array_safe\u001b[1;34m(values, dtype, copy, errors)\u001b[0m\n\u001b[0;32m   1307\u001b[0m \u001b[1;33m\u001b[0m\u001b[0m\n\u001b[0;32m   1308\u001b[0m     \u001b[1;32mtry\u001b[0m\u001b[1;33m:\u001b[0m\u001b[1;33m\u001b[0m\u001b[1;33m\u001b[0m\u001b[0m\n\u001b[1;32m-> 1309\u001b[1;33m         \u001b[0mnew_values\u001b[0m \u001b[1;33m=\u001b[0m \u001b[0mastype_array\u001b[0m\u001b[1;33m(\u001b[0m\u001b[0mvalues\u001b[0m\u001b[1;33m,\u001b[0m \u001b[0mdtype\u001b[0m\u001b[1;33m,\u001b[0m \u001b[0mcopy\u001b[0m\u001b[1;33m=\u001b[0m\u001b[0mcopy\u001b[0m\u001b[1;33m)\u001b[0m\u001b[1;33m\u001b[0m\u001b[1;33m\u001b[0m\u001b[0m\n\u001b[0m\u001b[0;32m   1310\u001b[0m     \u001b[1;32mexcept\u001b[0m \u001b[1;33m(\u001b[0m\u001b[0mValueError\u001b[0m\u001b[1;33m,\u001b[0m \u001b[0mTypeError\u001b[0m\u001b[1;33m)\u001b[0m\u001b[1;33m:\u001b[0m\u001b[1;33m\u001b[0m\u001b[1;33m\u001b[0m\u001b[0m\n\u001b[0;32m   1311\u001b[0m         \u001b[1;31m# e.g. astype_nansafe can fail on object-dtype of strings\u001b[0m\u001b[1;33m\u001b[0m\u001b[1;33m\u001b[0m\u001b[0m\n",
      "\u001b[1;32m~\\anaconda3\\lib\\site-packages\\pandas\\core\\dtypes\\cast.py\u001b[0m in \u001b[0;36mastype_array\u001b[1;34m(values, dtype, copy)\u001b[0m\n\u001b[0;32m   1255\u001b[0m \u001b[1;33m\u001b[0m\u001b[0m\n\u001b[0;32m   1256\u001b[0m     \u001b[1;32melse\u001b[0m\u001b[1;33m:\u001b[0m\u001b[1;33m\u001b[0m\u001b[1;33m\u001b[0m\u001b[0m\n\u001b[1;32m-> 1257\u001b[1;33m         \u001b[0mvalues\u001b[0m \u001b[1;33m=\u001b[0m \u001b[0mastype_nansafe\u001b[0m\u001b[1;33m(\u001b[0m\u001b[0mvalues\u001b[0m\u001b[1;33m,\u001b[0m \u001b[0mdtype\u001b[0m\u001b[1;33m,\u001b[0m \u001b[0mcopy\u001b[0m\u001b[1;33m=\u001b[0m\u001b[0mcopy\u001b[0m\u001b[1;33m)\u001b[0m\u001b[1;33m\u001b[0m\u001b[1;33m\u001b[0m\u001b[0m\n\u001b[0m\u001b[0;32m   1258\u001b[0m \u001b[1;33m\u001b[0m\u001b[0m\n\u001b[0;32m   1259\u001b[0m     \u001b[1;31m# in pandas we don't store numpy str dtypes, so convert to object\u001b[0m\u001b[1;33m\u001b[0m\u001b[1;33m\u001b[0m\u001b[0m\n",
      "\u001b[1;32m~\\anaconda3\\lib\\site-packages\\pandas\\core\\dtypes\\cast.py\u001b[0m in \u001b[0;36mastype_nansafe\u001b[1;34m(arr, dtype, copy, skipna)\u001b[0m\n\u001b[0;32m   1199\u001b[0m     \u001b[1;32mif\u001b[0m \u001b[0mcopy\u001b[0m \u001b[1;32mor\u001b[0m \u001b[0mis_object_dtype\u001b[0m\u001b[1;33m(\u001b[0m\u001b[0marr\u001b[0m\u001b[1;33m.\u001b[0m\u001b[0mdtype\u001b[0m\u001b[1;33m)\u001b[0m \u001b[1;32mor\u001b[0m \u001b[0mis_object_dtype\u001b[0m\u001b[1;33m(\u001b[0m\u001b[0mdtype\u001b[0m\u001b[1;33m)\u001b[0m\u001b[1;33m:\u001b[0m\u001b[1;33m\u001b[0m\u001b[1;33m\u001b[0m\u001b[0m\n\u001b[0;32m   1200\u001b[0m         \u001b[1;31m# Explicit copy, or required since NumPy can't view from / to object.\u001b[0m\u001b[1;33m\u001b[0m\u001b[1;33m\u001b[0m\u001b[0m\n\u001b[1;32m-> 1201\u001b[1;33m         \u001b[1;32mreturn\u001b[0m \u001b[0marr\u001b[0m\u001b[1;33m.\u001b[0m\u001b[0mastype\u001b[0m\u001b[1;33m(\u001b[0m\u001b[0mdtype\u001b[0m\u001b[1;33m,\u001b[0m \u001b[0mcopy\u001b[0m\u001b[1;33m=\u001b[0m\u001b[1;32mTrue\u001b[0m\u001b[1;33m)\u001b[0m\u001b[1;33m\u001b[0m\u001b[1;33m\u001b[0m\u001b[0m\n\u001b[0m\u001b[0;32m   1202\u001b[0m \u001b[1;33m\u001b[0m\u001b[0m\n\u001b[0;32m   1203\u001b[0m     \u001b[1;32mreturn\u001b[0m \u001b[0marr\u001b[0m\u001b[1;33m.\u001b[0m\u001b[0mastype\u001b[0m\u001b[1;33m(\u001b[0m\u001b[0mdtype\u001b[0m\u001b[1;33m,\u001b[0m \u001b[0mcopy\u001b[0m\u001b[1;33m=\u001b[0m\u001b[0mcopy\u001b[0m\u001b[1;33m)\u001b[0m\u001b[1;33m\u001b[0m\u001b[1;33m\u001b[0m\u001b[0m\n",
      "\u001b[1;31mValueError\u001b[0m: could not convert string to float: ''"
     ]
    }
   ],
   "source": [
    "#8\n",
    "print(file_10[\"Salary/Winnings\"])\n",
    "print(\"Type of data on salary columns: {}\\n\".format(file_10.dtypes[\"Salary/Winnings\"]))\n",
    "#file_10[\"Salary/Winnings\"] = file_10[\"Salary/Winnings\"].str.replace('$','',regex=False)\n",
    "print(file_10.head(1))\n",
    "file_10[\"Salary/Winnings\"] = file_10[\"Salary/Winnings\"].astype(float)\n",
    "print(\"Type of data on salary columns: {}\\n\".format(file_10.dtypes[\"Salary/Winnings\"]))\n",
    "\n",
    "\n",
    "#giving an erro but dont know why\n",
    "\n"
   ]
  },
  {
   "cell_type": "code",
   "execution_count": 37,
   "id": "fe6fec87",
   "metadata": {},
   "outputs": [],
   "source": [
    "#9\n",
    "\n"
   ]
  },
  {
   "cell_type": "code",
   "execution_count": null,
   "id": "efb2539a",
   "metadata": {},
   "outputs": [],
   "source": []
  }
 ],
 "metadata": {
  "kernelspec": {
   "display_name": "Python 3 (ipykernel)",
   "language": "python",
   "name": "python3"
  },
  "language_info": {
   "codemirror_mode": {
    "name": "ipython",
    "version": 3
   },
   "file_extension": ".py",
   "mimetype": "text/x-python",
   "name": "python",
   "nbconvert_exporter": "python",
   "pygments_lexer": "ipython3",
   "version": "3.9.7"
  }
 },
 "nbformat": 4,
 "nbformat_minor": 5
}
