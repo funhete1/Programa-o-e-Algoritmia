{
 "cells": [
  {
   "cell_type": "code",
   "execution_count": 11,
   "id": "d957018e",
   "metadata": {
    "collapsed": true
   },
   "outputs": [
    {
     "name": "stdout",
     "output_type": "stream",
     "text": [
      "                    Âmbito Geográfico     2009     2010     2011     2012  \\\n",
      "Região                                                                      \n",
      "Portugal                    NUTS 2013  1763954  1807536  1906006  1856450   \n",
      "Continente                     NUTS I  1458939  1531894  1606363  1564439   \n",
      "Norte                         NUTS II   207591   218295   223803   212894   \n",
      "Alto Minho                   NUTS III        0        0        0        0   \n",
      "Arcos de Valdevez           Município      867      737      799      778   \n",
      "...                               ...      ...      ...      ...      ...   \n",
      "Santa Cruz                  Município    36449    31988    32627    30747   \n",
      "Santana                     Município     1789      723     1296     1944   \n",
      "São Vicente                 Município     2971     2901     3420     3510   \n",
      "Ilha de Porto Santo          NUTS III    12670    11629    13854    13023   \n",
      "Porto Santo                 Município    12670    11629    13854    13023   \n",
      "\n",
      "                        2013     2014     2015     2016     2017  ...  \\\n",
      "Região                                                            ...   \n",
      "Portugal             1954569  2285896  2627741  3103755  3681207  ...   \n",
      "Continente           1637632  1940146  2240348  2643565  3170774  ...   \n",
      "Norte                 223778   271117   329973   403945   489312  ...   \n",
      "Alto Minho             14370    16878    21263    25328    32230  ...   \n",
      "Arcos de Valdevez        795      856     1266     2665     2937  ...   \n",
      "...                      ...      ...      ...      ...      ...  ...   \n",
      "Santa Cruz             33735    37049    39990    47321    51984  ...   \n",
      "Santana                    0     2448     2768     3391     3824  ...   \n",
      "São Vicente             3498     3428     3582     4260     4790  ...   \n",
      "Ilha de Porto Santo    14385    17089    20953    26006    27711  ...   \n",
      "Porto Santo            14385    17089    20953    26006    27711  ...   \n",
      "\n",
      "                      2011.1   2012.1   2013.1   2014.1   2015.1   2016.1  \\\n",
      "Região                                                                      \n",
      "Portugal             1355749  1326956  1413949  1608917  1848945  2190726   \n",
      "Continente           1161808  1133990  1198653  1374919  1583140  1869197   \n",
      "Norte                 179434   179091   191548   218092   262914   323747   \n",
      "Alto Minho                 0        0        0    11448    14071    17120   \n",
      "Arcos de Valdevez        316      330        0        0        0     1797   \n",
      "...                      ...      ...      ...      ...      ...      ...   \n",
      "Santa Cruz             22565    21052    23132    24585    26682    30742   \n",
      "Santana                    0        0     1913        0        0        0   \n",
      "São Vicente                0        0        0        0        0        0   \n",
      "Ilha de Porto Santo    12751    12185    13427    16117    17337    21280   \n",
      "Porto Santo            12751    12185    13427    16117    17337    21280   \n",
      "\n",
      "                      2017.1   2018.1   2019.1  2020.1  \n",
      "Região                                                  \n",
      "Portugal             2606951  2792152  2976234  936046  \n",
      "Continente           2243431  2417840  2601650  820906  \n",
      "Norte                 388862   443200   497346  173223  \n",
      "Alto Minho             21371    26262    28574   16625  \n",
      "Arcos de Valdevez       1731     2290     2472    1760  \n",
      "...                      ...      ...      ...     ...  \n",
      "Santa Cruz             34543    34082    30692   11212  \n",
      "Santana                    0        0        0       0  \n",
      "São Vicente                0        0        0       0  \n",
      "Ilha de Porto Santo    22843    23140    21146    6551  \n",
      "Porto Santo            22843    23140    21146    6551  \n",
      "\n",
      "[353 rows x 25 columns]\n"
     ]
    }
   ],
   "source": [
    "#core cell\n",
    "\n",
    "import pandas as pd\n",
    "\n",
    "pordata = pd.read_excel(\"pordata1.xls\")\n",
    "\n",
    "pordata = pordata.iloc[1:,:].set_index(\"Região\")"
   ]
  },
  {
   "cell_type": "code",
   "execution_count": 26,
   "id": "390448f9",
   "metadata": {},
   "outputs": [
    {
     "name": "stdout",
     "output_type": "stream",
     "text": [
      "Numero de colunas: 25\n",
      "Numero de linhas: 353\n",
      "Memoria ocupada sem otimizacoes: 0.07 MB\n"
     ]
    }
   ],
   "source": [
    "#2\n",
    "\n",
    "print(\"Numero de colunas: {}\".format(len(pordata.columns)))\n",
    "print(\"Numero de linhas: {}\".format(len(pordata)))\n",
    "print(\"Memoria ocupada sem otimizacoes: {:.2f} MB\".\n",
    "                format(pordata.memory_usage().sum() / 1024**2)) #1MB = 1024*1024bytes\n",
    "\n",
    "print()"
   ]
  },
  {
   "cell_type": "code",
   "execution_count": null,
   "id": "d66d765b",
   "metadata": {},
   "outputs": [],
   "source": []
  }
 ],
 "metadata": {
  "kernelspec": {
   "display_name": "Python 3 (ipykernel)",
   "language": "python",
   "name": "python3"
  },
  "language_info": {
   "codemirror_mode": {
    "name": "ipython",
    "version": 3
   },
   "file_extension": ".py",
   "mimetype": "text/x-python",
   "name": "python",
   "nbconvert_exporter": "python",
   "pygments_lexer": "ipython3",
   "version": "3.9.12"
  }
 },
 "nbformat": 4,
 "nbformat_minor": 5
}
