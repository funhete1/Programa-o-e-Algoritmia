{
 "cells": [
  {
   "cell_type": "code",
   "execution_count": 5,
   "id": "342a0e83",
   "metadata": {},
   "outputs": [
    {
     "name": "stdout",
     "output_type": "stream",
     "text": [
      "number of columns: 16\n",
      "first: Rank \n",
      "0     55\n",
      "1     95\n",
      "2     60\n",
      "3     48\n",
      "4     93\n",
      "      ..\n",
      "95    43\n",
      "96    25\n",
      "97    84\n",
      "98    12\n",
      "99     2\n",
      "Name: Rank, Length: 100, dtype: int64\n",
      "last: Description\n"
     ]
    }
   ],
   "source": [
    "#1\n",
    "import pandas as pd \n",
    "\n",
    "file = pd.read_csv(\"Athletes.csv\")\n",
    "\n",
    "print(\"number of columns: {}\".format(len(file.columns)))\n",
    "\n",
    "print(\"first: {} \".format(file.columns[0]))\n",
    "\n",
    "print(file.iloc[:,0])\n",
    "\n",
    "print(\"last: {}\".format(file.columns[-1]))"
   ]
  },
  {
   "cell_type": "code",
   "execution_count": 2,
   "id": "dcf4a9f0",
   "metadata": {},
   "outputs": [
    {
     "name": "stdout",
     "output_type": "stream",
     "text": [
      "Number of rows: 100\n"
     ]
    }
   ],
   "source": [
    "#2\n",
    "print(\"Number of rows: {}\".format(len(file)))"
   ]
  },
  {
   "cell_type": "code",
   "execution_count": 25,
   "id": "390df162",
   "metadata": {},
   "outputs": [
    {
     "name": "stdout",
     "output_type": "stream",
     "text": [
      "    Rank                Name       Sport    Total Pay Salary/Winnings  \\\n",
      "0     55       Aaron Rodgers    Football  $22,000,000     $14,500,000   \n",
      "1     95          Adam Scott        Golf  $17,700,000      $8,700,000   \n",
      "2     60     Adrian Gonzalez    Baseball  $21,500,000     $21,100,000   \n",
      "3     48      Alex Rodriguez    Baseball  $22,900,000     $22,600,000   \n",
      "4     93     Alfonso Soriano    Baseball  $18,050,000     $18,000,000   \n",
      "..   ...                 ...         ...          ...             ...   \n",
      "95    43        Wayne Rooney      Soccer  $23,400,000     $18,400,000   \n",
      "96    25  Wladimir Klitschko      Boxing  $28,000,000     $24,000,000   \n",
      "97    84       Zach Randolph  Basketball  $18,800,000     $18,300,000   \n",
      "98    12  Zlatan Ibrahimović      Soccer  $40,400,000     $36,400,000   \n",
      "99     2   Cristiano Ronaldo      Soccer  $80,000,000     $52,000,000   \n",
      "\n",
      "   Endorsements              Nation Gender  Year of birth  Birth Date  \n",
      "0    $7,500,000       United States   Male           1983   2/12/1983  \n",
      "1    $9,000,000           Australia   Male           1980  16/07/1980  \n",
      "2      $400,000       United States   Male           1982   8/05/1982  \n",
      "3      $300,000       United States   Male           1975  27/07/1975  \n",
      "4       $50,000  Dominican Republic   Male           1976   7/01/1976  \n",
      "..          ...                 ...    ...            ...         ...  \n",
      "95   $5,000,000             England   Male           1985  24/10/1985  \n",
      "96   $4,000,000             Ukraine   Male           1976  25/03/1976  \n",
      "97     $500,000       United States   Male           1981  16/07/1981  \n",
      "98   $4,000,000              Sweden   Male           1981   3/10/1981  \n",
      "99  $28,000,000            Portugal   Male           1985   5/02/1985  \n",
      "\n",
      "[100 rows x 10 columns]\n"
     ]
    }
   ],
   "source": [
    "#3\n",
    "file_10 = file.iloc[:,0:10]\n",
    "print(file_10)\n",
    "\n",
    "file_10.to_excel(\"output.xlsx\")"
   ]
  },
  {
   "cell_type": "code",
   "execution_count": 4,
   "id": "10340d46",
   "metadata": {
    "scrolled": true
   },
   "outputs": [
    {
     "name": "stdout",
     "output_type": "stream",
     "text": [
      "object\n",
      "object\n"
     ]
    }
   ],
   "source": [
    "#5\n",
    "print(file_10.dtypes[\"Sport\"])\n",
    "\n",
    "file_10 = file_10.astype({\"Sport\": str})\n",
    "\n",
    "print(file_10.dtypes[\"Sport\"])\n",
    "\n",
    "#the data type of column Sport is str but displayed as object, \n",
    "#and I can't think in a better type for a this column\n"
   ]
  },
  {
   "cell_type": "code",
   "execution_count": 5,
   "id": "32d7c9e5",
   "metadata": {},
   "outputs": [
    {
     "name": "stdout",
     "output_type": "stream",
     "text": [
      "               Rank     Sport    Total Pay Salary/Winnings Endorsements  \\\n",
      "Name                                                                      \n",
      "Aaron Rodgers    55  Football  $22,000,000     $14,500,000   $7,500,000   \n",
      "Adam Scott       95      Golf  $17,700,000      $8,700,000   $9,000,000   \n",
      "\n",
      "                      Nation Gender  Year of birth  Birth Date  \n",
      "Name                                                            \n",
      "Aaron Rodgers  United States   Male           1983   2/12/1983  \n",
      "Adam Scott         Australia   Male           1980  16/07/1980  \n"
     ]
    }
   ],
   "source": [
    "#4\n",
    "print(file_10.set_index(\"Name\").head(2))"
   ]
  },
  {
   "cell_type": "code",
   "execution_count": 57,
   "id": "c1971163",
   "metadata": {},
   "outputs": [
    {
     "name": "stdout",
     "output_type": "stream",
     "text": [
      "Number of non repeated Sports: 10\n",
      "\n",
      "Non repeated elements on the Sorts columns: \n",
      "Football\n",
      "Golf\n",
      "Baseball\n",
      "Basketball\n",
      "Boxing\n",
      "Racing\n",
      "Soccer\n",
      "Tennis\n",
      "Cricket\n",
      "Track\n",
      "\n",
      "Most frequent Sport: Baseball\n"
     ]
    }
   ],
   "source": [
    "#6\n",
    "print(\"Number of non repeated Sports: {}\\n\".format(file_10[\"Sport\"].\n",
    "                                                    nunique()))#number of non duplicated elements\n",
    "print(\"Non repeated elements on the Sorts columns: \")\n",
    "for i in file_10[\"Sport\"].unique():print(\"{}\".format(i),sep='')\n",
    "\n",
    "print(\"\\nMost frequent Sport: {}\".format(file_10[\"Sport\"].\n",
    "                                              value_counts().\n",
    "                                                idxmax()))"
   ]
  },
  {
   "cell_type": "code",
   "execution_count": 9,
   "id": "4c916b93",
   "metadata": {},
   "outputs": [
    {
     "name": "stdout",
     "output_type": "stream",
     "text": [
      "                                 Name       Sport\n",
      "Nation                                           \n",
      "Australia                  Adam Scott        Golf\n",
      "Dominican Republic    Alfonso Soriano    Baseball\n",
      "United States           Aaron Rodgers    Football\n",
      "United States         Adrian Gonzalez    Baseball\n",
      "United States          Alex Rodriguez    Baseball\n",
      "United States       Amar'e Stoudemire  Basketball\n",
      "United States              Barry Zito    Baseball\n",
      "\n",
      "Sports that the frist 7 pratice: \n",
      "Football\n",
      "Golf\n",
      "Baseball\n",
      "Basketball\n"
     ]
    }
   ],
   "source": [
    "#7\n",
    "file_7 = file_10.filter([\"Name\",\"Nation\",\"Sport\"],axis=1).set_index(\"Nation\").head(7)\n",
    "#file_7 = file_7.set_index(\"Nation\").head(7)\n",
    "print(file_7)\n",
    "\n",
    "print(file_7.sort_index(axis=0))\n",
    "\n",
    "print(\"\\nSports that the frist 7 pratice: \")\n",
    "for i in file_7[\"Sport\"].unique():print(\"{}\".format(i),sep='')"
   ]
  },
  {
   "cell_type": "markdown",
   "id": "aa7d45f2",
   "metadata": {},
   "source": [
    "## "
   ]
  },
  {
   "cell_type": "code",
   "execution_count": 26,
   "id": "015bd16f",
   "metadata": {
    "scrolled": true
   },
   "outputs": [
    {
     "name": "stdout",
     "output_type": "stream",
     "text": [
      "Type of data on salary columns: object\n",
      "\n",
      "0     14500000\n",
      "1      8700000\n",
      "2     21100000\n",
      "3     22600000\n",
      "4     18000000\n",
      "        ...   \n",
      "95    18400000\n",
      "96    24000000\n",
      "97    18300000\n",
      "98    36400000\n",
      "99    52000000\n",
      "Name: Salary/Winnings, Length: 100, dtype: object\n",
      "Type of data on salary columns: int64\n",
      "\n",
      "The 3 atlhetes with greater yield are:\n",
      "                   Salary/Winnings\n",
      "Name                              \n",
      "Floyd Mayweather         105000000\n",
      "Cristiano Ronaldo         52000000\n",
      "Matt Ryan                 42000000\n"
     ]
    }
   ],
   "source": [
    "#8\n",
    "print(\"Type of data on salary columns: {}\\n\".format(file_10.dtypes[\"Salary/Winnings\"]))\n",
    "\n",
    "\n",
    "#retira os caracteres que n sao numeros\n",
    "file_10[\"Salary/Winnings\"] = file_10[\"Salary/Winnings\"].str.replace('$','',regex=False)\n",
    "\n",
    "file_10[\"Salary/Winnings\"] = file_10[\"Salary/Winnings\"].str.replace(',','',regex=False)\n",
    "print(file_10[\"Salary/Winnings\"])\n",
    "\n",
    "\n",
    "\n",
    "\n",
    "file_10[\"Salary/Winnings\"] = file_10[\"Salary/Winnings\"].astype(float).astype(int)\n",
    "\n",
    "print(\"Type of data on salary columns: {}\\n\".format(file_10.dtypes[\"Salary/Winnings\"]))\n",
    "\n",
    "print(\"The 3 atlhetes with greater yield are:\\n{}\".format(file_10.filter([\"Name\",\"Salary/Winnings\"],axis=1).\n",
    "                                                                  set_index(\"Name\").\n",
    "                                                                      nlargest(3,\"Salary/Winnings\")))\n"
   ]
  },
  {
   "cell_type": "code",
   "execution_count": 71,
   "id": "5233a532",
   "metadata": {},
   "outputs": [
    {
     "name": "stdout",
     "output_type": "stream",
     "text": [
      "Rendimento medio global: $20099000\n",
      "\n",
      "Rendimento medio dos homens: $20524742\n",
      "\n",
      "Rendimento medio das mulheres: $189903\n",
      "\n",
      "Medio do(s) rendimento(s) em Football: 12607407\n",
      "\n",
      "Medio do(s) rendimento(s) em Golf: 2355555\n",
      "\n",
      "Medio do(s) rendimento(s) em Baseball: 32664705\n",
      "\n",
      "Medio do(s) rendimento(s) em Basketball: 23680000\n",
      "\n",
      "Medio do(s) rendimento(s) em Boxing: 31583333\n",
      "\n",
      "Medio do(s) rendimento(s) em Racing: 20266666\n",
      "\n",
      "Medio do(s) rendimento(s) em Soccer: 70300000\n",
      "\n",
      "Medio do(s) rendimento(s) em Tennis: 12450000\n",
      "\n",
      "Medio do(s) rendimento(s) em Cricket: 4000000\n",
      "\n",
      "Medio do(s) rendimento(s) em Track: 200000\n",
      "\n"
     ]
    }
   ],
   "source": [
    "#9\n",
    "print(\"Rendimento medio global: ${}\\n\".format(\n",
    "                                            file_10[\"Salary/Winnings\"].sum()\n",
    "                                            //len(file_10[\"Salary/Winnings\"])))\n",
    "\n",
    "salary_w = file_10.filter([\"Salary/Winnings\",\"Gender\"])\n",
    "counter= 0\n",
    "\n",
    "#get the number of males on the files\n",
    "for i in salary_w[\"Gender\"]:\n",
    "    if i ==\"Male\":counter+=1\n",
    "    \n",
    "#get the medium yield of males\n",
    "salary_w = salary_w.set_index(\"Gender\")\n",
    "print(\"Rendimento medio dos homens: ${}\\n\".format(salary_w._get_value(\"Male\",\"Salary/Winnings\").\n",
    "                                                sum()//counter),end=\"\\n\")\n",
    "print(\"Rendimento medio das mulheres: ${}\\n\".format(salary_w._get_value(\"Female\",\"Salary/Winnings\").sum()\n",
    "                                                     //len(salary_w)-counter))\n",
    "\n",
    "salary_s = file_10.filter([\"Salary/Winnings\",\"Sport\"])\n",
    "\n",
    "names = salary_s[\"Sport\"].unique() #names\n",
    "\n",
    "values = salary_s[\"Sport\"].value_counts()#values\n",
    "\n",
    "salary_s = salary_s.set_index(\"Sport\")\n",
    "\n",
    "for i in range(len(names)):\n",
    "    print(\"Medio do(s) rendimento(s) em {}: {}\\n\".format(names[i],salary_s._get_value(names[i],\"Salary/Winnings\").\n",
    "                                                       sum()//values[i]))\n",
    "    \n",
    "    \n",
    "    \n",
    "    \n",
    "    \n",
    "    "
   ]
  },
  {
   "cell_type": "code",
   "execution_count": 84,
   "id": "1ad05136",
   "metadata": {},
   "outputs": [
    {
     "name": "stdout",
     "output_type": "stream",
     "text": [
      "Empty DataFrame\n",
      "Columns: []\n",
      "Index: []\n",
      "                                0\n",
      "Name             Floyd Mayweather\n",
      "Salary/Winnings         105000000\n",
      "Total Pay            $105,000,000\n"
     ]
    }
   ],
   "source": [
    "#10\n",
    "from pandas.core.base import PandasObject\n",
    "\n",
    "def get_ndf(df,n):\n",
    "    new_df = pd.DataFrame() #new_df = []\n",
    "    print(new_df)\n",
    "    for i in range(len(df)):\n",
    "        value =df.iloc[i]['Salary/Winnings']\n",
    "        if value>n:\n",
    "            new_df = pd.concat([new_df,df.filter([\"Name\",\"Salary/Winnings\",\"Total Pay\"]).iloc[i]])\n",
    "    return new_df\n",
    "\n",
    "PandasObject.get_ndf = get_ndf\n",
    "\n",
    "print(file_10.get_ndf(70000000))\n",
    "    \n",
    "    "
   ]
  },
  {
   "cell_type": "code",
   "execution_count": null,
   "id": "05faec72",
   "metadata": {},
   "outputs": [],
   "source": []
  }
 ],
 "metadata": {
  "kernelspec": {
   "display_name": "Python 3 (ipykernel)",
   "language": "python",
   "name": "python3"
  },
  "language_info": {
   "codemirror_mode": {
    "name": "ipython",
    "version": 3
   },
   "file_extension": ".py",
   "mimetype": "text/x-python",
   "name": "python",
   "nbconvert_exporter": "python",
   "pygments_lexer": "ipython3",
   "version": "3.9.12"
  }
 },
 "nbformat": 4,
 "nbformat_minor": 5
}
